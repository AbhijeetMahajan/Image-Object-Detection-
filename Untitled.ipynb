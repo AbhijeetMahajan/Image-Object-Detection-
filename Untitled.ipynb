{
 "cells": [
  {
   "cell_type": "code",
   "execution_count": 21,
   "metadata": {},
   "outputs": [
    {
     "name": "stdout",
     "output_type": "stream",
     "text": [
      "car  :  54.727208614349365\n",
      "car  :  58.945852518081665\n",
      "car  :  62.59391903877258\n",
      "car  :  74.07445311546326\n",
      "car  :  91.1050796508789\n",
      "car  :  97.26506471633911\n",
      "car  :  97.5576639175415\n",
      "person  :  53.64596247673035\n",
      "person  :  56.598323583602905\n",
      "person  :  72.28184938430786\n"
     ]
    }
   ],
   "source": [
    "from imageai.Detection import ObjectDetection\n",
    "\n",
    "detector = ObjectDetection()\n",
    "\n",
    "model_path = \"./models/yolo-tiny.h5\"\n",
    "input_path = \"./input/image2.jpg\"\n",
    "output_path = \"./output/newimage.jpg\"\n",
    "\n",
    "detector.setModelTypeAsTinyYOLOv3()\n",
    "detector.setModelPath(model_path)\n",
    "detector.loadModel()\n",
    "detection = detector.detectObjectsFromImage(input_image=input_path, output_image_path=output_path)\n",
    "\n",
    "for eachItem in detection:\n",
    "    print(eachItem[\"name\"] , \" : \", eachItem[\"percentage_probability\"])"
   ]
  },
  {
   "cell_type": "code",
   "execution_count": null,
   "metadata": {},
   "outputs": [],
   "source": []
  },
  {
   "cell_type": "code",
   "execution_count": null,
   "metadata": {},
   "outputs": [],
   "source": []
  },
  {
   "cell_type": "code",
   "execution_count": null,
   "metadata": {},
   "outputs": [],
   "source": []
  }
 ],
 "metadata": {
  "kernelspec": {
   "display_name": "Python 3",
   "language": "python",
   "name": "python3"
  },
  "language_info": {
   "codemirror_mode": {
    "name": "ipython",
    "version": 3
   },
   "file_extension": ".py",
   "mimetype": "text/x-python",
   "name": "python",
   "nbconvert_exporter": "python",
   "pygments_lexer": "ipython3",
   "version": "3.7.4"
  }
 },
 "nbformat": 4,
 "nbformat_minor": 2
}
